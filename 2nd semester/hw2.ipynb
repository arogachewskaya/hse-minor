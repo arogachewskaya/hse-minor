{
 "cells": [
  {
   "cell_type": "markdown",
   "metadata": {},
   "source": [
    "# Майнор по Анализу Данных, Группа ИАД-2\n",
    "## Домашнее задание №2: Классификация текстовых данных"
   ]
  },
  {
   "cell_type": "markdown",
   "metadata": {},
   "source": [
    "<hr\\>\n",
    "**Общая информация**\n",
    "\n",
    "**Срок сдачи:** 19 апреля 2017, 23:59 <br\\>\n",
    "\n",
    "При отправлении ДЗ на почту `hse.minor.dm+2@gmail.com` указывайте фамилию в названии файла, а тему письма оформляйте в следующем виде:<br\\>\n",
    "** [ИАД-2] *{Фамилия}* *{Имя}* ДЗ*{Номер}* **<br\\>\n",
    "\n",
    "Сопровождайте ваш код изображеними, комментариями и выводами. <br\\>\n",
    "Иммейте ввиду, что на некоторые задачи нет единственного верного и полного ответа. Чем больше информации вы сможете извлечь, аргументированных выводов сформулировать, тем лучше.\n",
    "\n",
    "Используйте данный Ipython Notebook при оформлении домашнего задания.\n",
    "<hr\\>"
   ]
  },
  {
   "cell_type": "markdown",
   "metadata": {},
   "source": [
    "<p>Чтобы узнать свой вариант, введите Вашу фамилию на русском языке в соответвующее поле ниже и запустите ячейку:</p>"
   ]
  },
  {
   "cell_type": "code",
   "execution_count": 2,
   "metadata": {
    "collapsed": true
   },
   "outputs": [],
   "source": [
    "import pandas as pd\n",
    "import numpy as np\n",
    "import matplotlib.pyplot as plt\n",
    "\n",
    "%matplotlib inline\n",
    "\n",
    "plt.style.use('ggplot')\n",
    "plt.rcParams['figure.figsize'] = (12,8)\n",
    "\n",
    "font = {'family': 'Verdana',\n",
    "        'weight': 'normal'}\n",
    "plt.rc('font', **font)"
   ]
  },
  {
   "cell_type": "code",
   "execution_count": 3,
   "metadata": {},
   "outputs": [
    {
     "name": "stdout",
     "output_type": "stream",
     "text": [
      "Ваш вариант -  1\n"
     ]
    }
   ],
   "source": [
    "surname = u\"Рогачевская\" #Ваша фамилия\n",
    "\n",
    "variant = (hash(surname.lower()) % 2 + 1)\n",
    "print (\"Ваш вариант - \", variant)\n",
    "\n"
   ]
  },
  {
   "cell_type": "markdown",
   "metadata": {},
   "source": [
    "<p><b>Варианты</b></p>"
   ]
  },
  {
   "cell_type": "markdown",
   "metadata": {},
   "source": [
    "* Набор SMS сообщений (sms) - <b>спам/не спам</b> - <a href=\"https://archive.ics.uci.edu/ml/datasets\">источник</a> - файл c данными: <b>data/SMSSpamCollection</b></li>\n",
    "</ol>\n",
    "* Набор рецензий на фильмы (reviews) - <b>positive/negative</b> - <a href=\"http://www.cs.cornell.edu/people/pabo/movie-review-data/\">источник</a> - файл c данными: <b>data/reviews.tsv</b></li>\n",
    "</ol>"
   ]
  },
  {
   "cell_type": "markdown",
   "metadata": {},
   "source": [
    "## Задача 1\n",
    "#### Классификация текстовых сообщений (2 балла)"
   ]
  },
  {
   "cell_type": "markdown",
   "metadata": {},
   "source": [
    "<ol>\n",
    "    <li>Загрузите исходные данные</li>\n",
    "    <li>Разбейте загруженные данные на обучающее (train) и тестовое подможества (test)</li>\n",
    "    <li>Переведите текстовые данные в векторный вид. Для этого воcпользуйтесь средствами sklearn для конвертации текста в векторы TF-IDF (настроить на обучающем подмножестве, n-gram=1, слова в нижний регистр)</li>\n",
    "    <li>Постройте на обучающем подмножестве следующие модели классификации:\n",
    "        <ul>\n",
    "            <li>K-ближайших соседей ($n=5$)</li>\n",
    "            <li>Логистическая регрессия ($C=1$)</li>\n",
    "            <li>Мультиномиальный наивный Байес ($\\alpha=1$)</li> \n",
    "        </ul>\n",
    "    </li>\n",
    "    <li>Определите качество классификации (по доле правильных классификаций) на тестовом подмножестве</li>\n",
    "    <li>Определите с помощью timeit время обучения и предсказания (на тестовом подмножестве) </li>\n",
    "</ol>"
   ]
  },
  {
   "cell_type": "code",
   "execution_count": 4,
   "metadata": {
    "collapsed": true
   },
   "outputs": [],
   "source": [
    "from sklearn.feature_extraction.text import TfidfVectorizer\n",
    "from sklearn.metrics import accuracy_score\n",
    "import time"
   ]
  },
  {
   "cell_type": "code",
   "execution_count": 5,
   "metadata": {},
   "outputs": [
    {
     "data": {
      "text/html": [
       "<div>\n",
       "<table border=\"1\" class=\"dataframe\">\n",
       "  <thead>\n",
       "    <tr style=\"text-align: right;\">\n",
       "      <th></th>\n",
       "      <th>ans</th>\n",
       "      <th>phrase</th>\n",
       "    </tr>\n",
       "  </thead>\n",
       "  <tbody>\n",
       "    <tr>\n",
       "      <th>0</th>\n",
       "      <td>0</td>\n",
       "      <td>unless bob crane is someone of particular inte...</td>\n",
       "    </tr>\n",
       "    <tr>\n",
       "      <th>1</th>\n",
       "      <td>1</td>\n",
       "      <td>finds a way to tell a simple story , perhaps t...</td>\n",
       "    </tr>\n",
       "    <tr>\n",
       "      <th>2</th>\n",
       "      <td>0</td>\n",
       "      <td>ill-considered , unholy hokum .</td>\n",
       "    </tr>\n",
       "    <tr>\n",
       "      <th>3</th>\n",
       "      <td>0</td>\n",
       "      <td>nijinsky says , 'i know how to suffer' and if ...</td>\n",
       "    </tr>\n",
       "    <tr>\n",
       "      <th>4</th>\n",
       "      <td>1</td>\n",
       "      <td>the auteur's ear for the way fears and slights...</td>\n",
       "    </tr>\n",
       "  </tbody>\n",
       "</table>\n",
       "</div>"
      ],
      "text/plain": [
       "   ans                                             phrase\n",
       "0    0  unless bob crane is someone of particular inte...\n",
       "1    1  finds a way to tell a simple story , perhaps t...\n",
       "2    0                   ill-considered , unholy hokum . \n",
       "3    0  nijinsky says , 'i know how to suffer' and if ...\n",
       "4    1  the auteur's ear for the way fears and slights..."
      ]
     },
     "execution_count": 5,
     "metadata": {},
     "output_type": "execute_result"
    }
   ],
   "source": [
    "df = pd.read_table('reviews.tsv', header=None, names=['ans', 'phrase']) #загружаем данные\n",
    "df.head()"
   ]
  },
  {
   "cell_type": "code",
   "execution_count": 6,
   "metadata": {},
   "outputs": [],
   "source": [
    "phrases = df.phrase.values"
   ]
  },
  {
   "cell_type": "code",
   "execution_count": 7,
   "metadata": {},
   "outputs": [],
   "source": [
    "tf = TfidfVectorizer(lowercase=True, ngram_range=(1,1)) #переводим данные в векторный вид\n",
    "vect = tf.fit_transform(phrases)"
   ]
  },
  {
   "cell_type": "code",
   "execution_count": 8,
   "metadata": {},
   "outputs": [],
   "source": [
    "from sklearn.model_selection import train_test_split #разделяем данные\n",
    "X_train, X_test, y_train, y_test = train_test_split(vect, df.ans.values, test_size=0.3, random_state = 123)"
   ]
  },
  {
   "cell_type": "markdown",
   "metadata": {},
   "source": [
    "K-ближайших соседей:"
   ]
  },
  {
   "cell_type": "code",
   "execution_count": 9,
   "metadata": {},
   "outputs": [
    {
     "name": "stdout",
     "output_type": "stream",
     "text": [
      "0.013009071350097656\n",
      "3.363393545150757\n"
     ]
    }
   ],
   "source": [
    "from sklearn.neighbors import KNeighborsClassifier #обучение\n",
    "knn = KNeighborsClassifier(n_neighbors=5)\n",
    "start_fit_knn = time.time()\n",
    "knn.fit(X_train, y_train)\n",
    "end_fit_knn = time.time()\n",
    "time_fit_knn = end_fit_knn - start_fit_knn\n",
    "print(time_fit_knn)\n",
    "\n",
    "start_pred_knn = time.time()\n",
    "knn.predict(X_test)\n",
    "end_pred_knn = time.time()\n",
    "time_pred_knn = end_pred_knn - start_pred_knn\n",
    "print(time_pred_knn)"
   ]
  },
  {
   "cell_type": "code",
   "execution_count": 10,
   "metadata": {
    "collapsed": true
   },
   "outputs": [],
   "source": [
    "y_hat_knn = knn.predict(X_test)"
   ]
  },
  {
   "cell_type": "code",
   "execution_count": 11,
   "metadata": {},
   "outputs": [
    {
     "data": {
      "text/plain": [
       "0.71459831197249135"
      ]
     },
     "execution_count": 11,
     "metadata": {},
     "output_type": "execute_result"
    }
   ],
   "source": [
    "accuracy_score(y_test, y_hat_knn) #определяем качество"
   ]
  },
  {
   "cell_type": "markdown",
   "metadata": {},
   "source": [
    "Логистическая регрессия:"
   ]
  },
  {
   "cell_type": "code",
   "execution_count": 12,
   "metadata": {},
   "outputs": [
    {
     "name": "stdout",
     "output_type": "stream",
     "text": [
      "1.6912035942077637\n",
      "0.0030031204223632812\n"
     ]
    }
   ],
   "source": [
    "from sklearn.linear_model import LogisticRegression\n",
    "log = LogisticRegression(C=1.0, penalty=\"l2\", fit_intercept=True, max_iter=100, solver=\"lbfgs\", random_state=123)\n",
    "start_fit_log = time.time()\n",
    "log.fit(X_train, y_train)\n",
    "end_fit_log = time.time()\n",
    "time_fit_log = end_fit_log - start_fit_log\n",
    "print(time_fit_log)\n",
    "\n",
    "start_pred_log = time.time()\n",
    "log.predict(X_test)\n",
    "end_pred_log = time.time()\n",
    "time_pred_log = end_pred_log - start_pred_log\n",
    "print(time_pred_log)"
   ]
  },
  {
   "cell_type": "code",
   "execution_count": 13,
   "metadata": {
    "collapsed": true
   },
   "outputs": [],
   "source": [
    "y_hat_log = log.predict(X_test)"
   ]
  },
  {
   "cell_type": "code",
   "execution_count": 14,
   "metadata": {},
   "outputs": [
    {
     "data": {
      "text/plain": [
       "0.76242575804939039"
      ]
     },
     "execution_count": 14,
     "metadata": {},
     "output_type": "execute_result"
    }
   ],
   "source": [
    "accuracy_score(y_test, y_hat_log)"
   ]
  },
  {
   "cell_type": "markdown",
   "metadata": {},
   "source": [
    "Мультиномиальный наивный Байес:"
   ]
  },
  {
   "cell_type": "code",
   "execution_count": 15,
   "metadata": {},
   "outputs": [
    {
     "name": "stdout",
     "output_type": "stream",
     "text": [
      "0.022009849548339844\n",
      "0.005002021789550781\n"
     ]
    }
   ],
   "source": [
    "from sklearn.naive_bayes import MultinomialNB\n",
    "mnb = MultinomialNB(alpha=1.0)\n",
    "start_fit_mnb = time.time()\n",
    "mnb.fit(X_train, y_train)\n",
    "end_fit_mnb = time.time()\n",
    "time_fit_mnb = end_fit_mnb - start_fit_mnb\n",
    "print(time_fit_mnb)\n",
    "\n",
    "start_pred_mnb = time.time()\n",
    "mnb.predict(X_test)\n",
    "end_pred_mnb = time.time()\n",
    "time_pred_mnb = end_pred_mnb - start_pred_mnb \n",
    "print(time_pred_mnb) \n",
    "\n",
    "#получилось, что модель с knn обучается быстрее log, но предсказания делает дольше остальных\n",
    "#логистическая регрессия обучается медленнее всех, но предсказания делает почти с таким же временем, как mnb\n",
    "#mnb лучшая по времени"
   ]
  },
  {
   "cell_type": "code",
   "execution_count": 16,
   "metadata": {
    "collapsed": true
   },
   "outputs": [],
   "source": [
    "y_hat_mnb = mnb.predict(X_test)"
   ]
  },
  {
   "cell_type": "code",
   "execution_count": 17,
   "metadata": {},
   "outputs": [
    {
     "data": {
      "text/plain": [
       "0.78149421694279464"
      ]
     },
     "execution_count": 17,
     "metadata": {},
     "output_type": "execute_result"
    }
   ],
   "source": [
    "accuracy_score(y_test, y_hat_mnb)\n",
    "\n",
    "#доля правильных ответов у MNB больше (очевидно, качество этой модели лучше), \n",
    "#затем идет LOG,а самая худшая accuracy соответственно у KNN"
   ]
  },
  {
   "cell_type": "markdown",
   "metadata": {},
   "source": [
    "## Задача 2.\n",
    "#### Применение k-folds (3 балла)"
   ]
  },
  {
   "cell_type": "markdown",
   "metadata": {},
   "source": [
    "<p>Повторите решение задачи 1, но с ипользованием k-folds (k=4) для разделения исходных данных, обучения и тестирования.</p>"
   ]
  },
  {
   "cell_type": "code",
   "execution_count": 18,
   "metadata": {},
   "outputs": [],
   "source": [
    "from sklearn.model_selection import KFold\n",
    "from sklearn.model_selection import cross_val_score\n",
    "from sklearn.metrics import make_scorer\n",
    "right_answers = make_scorer(accuracy_score, greater_is_better = True)\n",
    "kf = KFold(n_splits=4, random_state=123)"
   ]
  },
  {
   "cell_type": "markdown",
   "metadata": {},
   "source": [
    "Для K ближайших соседей:"
   ]
  },
  {
   "cell_type": "code",
   "execution_count": 19,
   "metadata": {},
   "outputs": [
    {
     "name": "stdout",
     "output_type": "stream",
     "text": [
      "8.798261404037476\n"
     ]
    }
   ],
   "source": [
    "knn_2 = KNeighborsClassifier(n_neighbors=5)\n",
    "start1_knn = time.time()\n",
    "cross_val_score(estimator = knn_2, X = X_train, y = y_train, scoring = right_answers, cv=kf)\n",
    "end1_knn = time.time()\n",
    "time1_knn = end1_knn - start1_knn\n",
    "print(time1_knn)"
   ]
  },
  {
   "cell_type": "code",
   "execution_count": 20,
   "metadata": {},
   "outputs": [
    {
     "data": {
      "text/plain": [
       "0.69971926013407693"
      ]
     },
     "execution_count": 20,
     "metadata": {},
     "output_type": "execute_result"
    }
   ],
   "source": [
    "cv_knn_2 = cross_val_score(estimator = knn_2, X = X_train, y = y_train, scoring = right_answers, cv=kf)\n",
    "sum(list(cv_knn_2))/4"
   ]
  },
  {
   "cell_type": "markdown",
   "metadata": {},
   "source": [
    "Для логистической регрессии:"
   ]
  },
  {
   "cell_type": "code",
   "execution_count": 21,
   "metadata": {},
   "outputs": [
    {
     "name": "stdout",
     "output_type": "stream",
     "text": [
      "2.4672493934631348\n"
     ]
    }
   ],
   "source": [
    "log_2 = LogisticRegression(C=1.0, penalty=\"l2\", fit_intercept=True, max_iter=100, solver=\"lbfgs\", random_state=123)\n",
    "start1_log = time.time()\n",
    "cross_val_score(estimator = log_2, X = X_train, y = y_train, scoring = right_answers, cv=kf)\n",
    "end1_log = time.time()\n",
    "time1_log = end1_log - start1_log\n",
    "print(time1_log)"
   ]
  },
  {
   "cell_type": "code",
   "execution_count": 22,
   "metadata": {},
   "outputs": [
    {
     "data": {
      "text/plain": [
       "0.74152608122203734"
      ]
     },
     "execution_count": 22,
     "metadata": {},
     "output_type": "execute_result"
    }
   ],
   "source": [
    "cv_log_2 = cross_val_score(estimator = log_2, X = X_train, y = y_train, scoring = right_answers, cv=kf  )\n",
    "sum(list(cv_log_2))/4"
   ]
  },
  {
   "cell_type": "markdown",
   "metadata": {},
   "source": [
    "Для мультиномиального наивного Байеса:"
   ]
  },
  {
   "cell_type": "code",
   "execution_count": 23,
   "metadata": {},
   "outputs": [
    {
     "name": "stdout",
     "output_type": "stream",
     "text": [
      "0.20714688301086426\n"
     ]
    }
   ],
   "source": [
    "mnb_2 = MultinomialNB(alpha=1.0)\n",
    "start1_mnb = time.time()\n",
    "cross_val_score(estimator = mnb_2, X = X_train, y = y_train, scoring = right_answers, cv=kf  )\n",
    "end1_mnb = time.time()\n",
    "time1_mnb = end1_mnb - start1_mnb\n",
    "print(time1_mnb) #MNB снова работает быстрее всех"
   ]
  },
  {
   "cell_type": "code",
   "execution_count": 24,
   "metadata": {},
   "outputs": [
    {
     "data": {
      "text/plain": [
       "0.7585437445583304"
      ]
     },
     "execution_count": 24,
     "metadata": {},
     "output_type": "execute_result"
    }
   ],
   "source": [
    "cv_mnb_2 = cross_val_score(estimator = mnb_2, X = X_train, y = y_train, scoring = right_answers, cv=kf  )\n",
    "sum(list(cv_mnb_2))/4"
   ]
  },
  {
   "cell_type": "markdown",
   "metadata": {},
   "source": [
    "## Задача 3.\n",
    "#### Выбор модели (5 баллов)"
   ]
  },
  {
   "cell_type": "markdown",
   "metadata": {},
   "source": [
    "<p style=\"padding-left:15px;\">1. Используя данные из задачи 1, разбейте обучающее подмножество (train) с использованием k-folds (k=4) <br>\n",
    "2. Обучите и протестируйте на разбитом обучающем подмножестве классификаторы со следующими параметрами: </p>"
   ]
  },
  {
   "cell_type": "markdown",
   "metadata": {},
   "source": [
    "<p style=\"padding-left:15px;\">3. Постройте графики (параметры модели)-(доля правильных классификаций) при обучении и валидации <br>\n",
    "4. Выберите лучшую модель для каждого метода, используя значение качества классификации (использовать долю правильных классификаций)<br>\n",
    "5. Выбранные модели обучите на обучающем подмножестве (train) и протестируйте на тестовом (test). Определите время обучения и предсказания (см. задачу 1 п. 6)<br>\n",
    "6. Повторите шаги 2-4 для n-gram=2<br>\n",
    "7. Выведите итоговые данные по всем методам для лучших моделей (метод, n-gram, значение параметра модели, время обучения, время предсказания, доля правильных классификаций)<br>\n",
    "8. Сделайте выводы по полученным результатам (преимущества и недостатки методов)\n",
    "</p>"
   ]
  },
  {
   "cell_type": "code",
   "execution_count": 25,
   "metadata": {
    "collapsed": true
   },
   "outputs": [],
   "source": [
    "from sklearn.model_selection import GridSearchCV"
   ]
  },
  {
   "cell_type": "markdown",
   "metadata": {},
   "source": [
    "<p>K-ближайших соседей</p>"
   ]
  },
  {
   "cell_type": "code",
   "execution_count": 26,
   "metadata": {},
   "outputs": [],
   "source": [
    "ns = np.arange(1, 150, 20) \n",
    "knn_3 = KNeighborsClassifier(n_neighbors=list(ns))\n",
    "param_dict_knn = {'n_neighbors':list(ns)}\n",
    "grid_knn = GridSearchCV(estimator= knn_3, cv=kf, param_grid = param_dict_knn, scoring = right_answers)\n",
    "grid_knn.fit(X_train, y_train)\n",
    "error_test_knn = grid_knn.cv_results_.get('mean_test_score')\n",
    "error_train_knn = grid_knn.cv_results_.get('mean_train_score')\n"
   ]
  },
  {
   "cell_type": "code",
   "execution_count": 28,
   "metadata": {},
   "outputs": [
    {
     "data": {
      "text/plain": [
       "<matplotlib.legend.Legend at 0x2a38025fa20>"
      ]
     },
     "execution_count": 28,
     "metadata": {},
     "output_type": "execute_result"
    },
    {
     "data": {
      "image/png": "[encoded data removed]",
      "text/plain": [
       "<matplotlib.figure.Figure at 0x2a3f8d63048>"
      ]
     },
     "metadata": {},
     "output_type": "display_data"
    }
   ],
   "source": [
    "plt.scatter(list(ns), error_test_knn, c = 'blue', label='test')\n",
    "plt.scatter(list(ns), error_train_knn, label='train')\n",
    "plt.xlabel('Number of Neighbors')\n",
    "plt.ylabel('Accuracy')\n",
    "plt.legend(loc=5)"
   ]
  },
  {
   "cell_type": "markdown",
   "metadata": {},
   "source": [
    "<p>Логистическая регрессия</p>"
   ]
  },
  {
   "cell_type": "code",
   "execution_count": 29,
   "metadata": {},
   "outputs": [],
   "source": [
    "cs = np.logspace(-2, 10, 8, base=10)\n",
    "log_3 = LogisticRegression(C=list(cs), penalty=\"l2\", fit_intercept=True, max_iter=100, solver=\"lbfgs\", random_state=123)\n",
    "param_dict_log = {'C': list(cs)} \n",
    "grid_log = GridSearchCV(estimator=log_3, cv=kf, param_grid = param_dict_log, scoring = right_answers)\n",
    "grid_log.fit(X_train, y_train)\n",
    "error_test_log = grid_log.cv_results_.get('mean_test_score')\n",
    "error_train_log = grid_log.cv_results_.get('mean_train_score')"
   ]
  },
  {
   "cell_type": "code",
   "execution_count": 30,
   "metadata": {},
   "outputs": [
    {
     "data": {
      "text/plain": [
       "<matplotlib.legend.Legend at 0x2a3803f7ef0>"
      ]
     },
     "execution_count": 30,
     "metadata": {},
     "output_type": "execute_result"
    },
    {
     "data": {
      "image/png": "[encoded data removed]",
      "text/plain": [
       "<matplotlib.figure.Figure at 0x2a3801a7128>"
      ]
     },
     "metadata": {},
     "output_type": "display_data"
    }
   ],
   "source": [
    "plt.scatter(list(cs), error_test_log, c = 'blue', label='test')\n",
    "plt.scatter(list(cs), error_train_log, label='train')\n",
    "plt.xlabel('Parameter of Regularization')\n",
    "plt.ylabel('Accuracy')\n",
    "plt.legend(loc=5)"
   ]
  },
  {
   "cell_type": "markdown",
   "metadata": {},
   "source": [
    "<p>Мультиномиальный наивный Байес</p>"
   ]
  },
  {
   "cell_type": "code",
   "execution_count": 31,
   "metadata": {
    "collapsed": true
   },
   "outputs": [],
   "source": [
    "alphas = np.logspace(-4, 1, 8, base=10) # сглаживающий параметр\n",
    "mnb_3 = MultinomialNB(alpha=list(alphas))\n",
    "param_dict_mnb = {'alpha': list(alphas)} \n",
    "grid_mnb = GridSearchCV(estimator=mnb_3, cv=kf, param_grid = param_dict_mnb, scoring = right_answers)\n",
    "grid_mnb.fit(X_train, y_train)\n",
    "error_test_mnb = grid_mnb.cv_results_.get('mean_test_score')\n",
    "error_train_mnb = grid_mnb.cv_results_.get('mean_train_score')"
   ]
  },
  {
   "cell_type": "code",
   "execution_count": 32,
   "metadata": {},
   "outputs": [
    {
     "data": {
      "text/plain": [
       "<matplotlib.legend.Legend at 0x2a38036bbe0>"
      ]
     },
     "execution_count": 32,
     "metadata": {},
     "output_type": "execute_result"
    },
    {
     "data": {
      "image/png": "[encoded data removed]",
      "text/plain": [
       "<matplotlib.figure.Figure at 0x2a3800883c8>"
      ]
     },
     "metadata": {},
     "output_type": "display_data"
    }
   ],
   "source": [
    "plt.scatter(list(alphas), error_test_mnb, label='test', c = 'blue')\n",
    "plt.scatter(list(alphas), error_train_mnb, label= 'train')\n",
    "plt.xlabel('Parameter Alpha')\n",
    "plt.ylabel('Accuracy')\n",
    "plt.legend(loc=5)"
   ]
  },
  {
   "cell_type": "markdown",
   "metadata": {},
   "source": [
    "Ищем лучшие параметры для моделей:"
   ]
  },
  {
   "cell_type": "markdown",
   "metadata": {},
   "source": [
    "K ближайших соседей:"
   ]
  },
  {
   "cell_type": "code",
   "execution_count": 33,
   "metadata": {},
   "outputs": [
    {
     "data": {
      "text/plain": [
       "{'n_neighbors': 81}"
      ]
     },
     "execution_count": 33,
     "metadata": {},
     "output_type": "execute_result"
    }
   ],
   "source": [
    "grid_knn.best_params_"
   ]
  },
  {
   "cell_type": "markdown",
   "metadata": {},
   "source": [
    "Логистическая регрессия:"
   ]
  },
  {
   "cell_type": "code",
   "execution_count": 34,
   "metadata": {},
   "outputs": [
    {
     "data": {
      "text/plain": [
       "{'C': 26.826957952797247}"
      ]
     },
     "execution_count": 34,
     "metadata": {},
     "output_type": "execute_result"
    }
   ],
   "source": [
    "grid_log.best_params_"
   ]
  },
  {
   "cell_type": "markdown",
   "metadata": {},
   "source": [
    "Мультиномиальный наивный Байес"
   ]
  },
  {
   "cell_type": "code",
   "execution_count": 35,
   "metadata": {},
   "outputs": [
    {
     "data": {
      "text/plain": [
       "{'alpha': 0.37275937203149417}"
      ]
     },
     "execution_count": 35,
     "metadata": {},
     "output_type": "execute_result"
    }
   ],
   "source": [
    "grid_mnb.best_params_"
   ]
  },
  {
   "cell_type": "markdown",
   "metadata": {},
   "source": [
    "Обучение лучшей модели. К ближайших соседей"
   ]
  },
  {
   "cell_type": "code",
   "execution_count": 36,
   "metadata": {},
   "outputs": [
    {
     "name": "stdout",
     "output_type": "stream",
     "text": [
      "0.009001493453979492\n",
      "4.32207465171814\n"
     ]
    }
   ],
   "source": [
    "knn_4 = KNeighborsClassifier(n_neighbors=81)\n",
    "start2_fit_knn = time.time()\n",
    "knn_4.fit(X_train, y_train)\n",
    "end2_fit_knn = time.time()\n",
    "time2_fit_knn = end2_fit_knn - start2_fit_knn\n",
    "print(time2_fit_knn)\n",
    "\n",
    "start2_pred_knn = time.time()\n",
    "knn_4.predict(X_test)\n",
    "end2_pred_knn = time.time()\n",
    "time2_pred_knn = end2_pred_knn - start2_pred_knn\n",
    "print(time2_pred_knn)\n"
   ]
  },
  {
   "cell_type": "code",
   "execution_count": 37,
   "metadata": {},
   "outputs": [
    {
     "data": {
      "text/plain": [
       "0.75336042513285406"
      ]
     },
     "execution_count": 37,
     "metadata": {},
     "output_type": "execute_result"
    }
   ],
   "source": [
    "y_hat_knn_best = knn_4.predict(X_test)\n",
    "score2_knn = accuracy_score(y_test, y_hat_knn_best)\n",
    "score2_knn"
   ]
  },
  {
   "cell_type": "markdown",
   "metadata": {},
   "source": [
    "Обучение. Логистическая регрессия"
   ]
  },
  {
   "cell_type": "code",
   "execution_count": 38,
   "metadata": {},
   "outputs": [
    {
     "name": "stdout",
     "output_type": "stream",
     "text": [
      "1.2829129695892334\n",
      "0.003007650375366211\n"
     ]
    }
   ],
   "source": [
    "log_4 = LogisticRegression(C=26.826957952797247, penalty=\"l2\", fit_intercept=True, max_iter=100, solver=\"lbfgs\", random_state=123)\n",
    "start2_fit_log = time.time()\n",
    "log_4.fit(X_train, y_train)\n",
    "end2_fit_log = time.time()\n",
    "time2_fit_log = end2_fit_log - start2_fit_log\n",
    "print(time2_fit_log)\n",
    "\n",
    "start2_pred_log = time.time()\n",
    "log_4.predict(X_test)\n",
    "end2_pred_log = time.time()\n",
    "time2_pred_log = end2_pred_log - start2_pred_log\n",
    "print(time2_pred_log)"
   ]
  },
  {
   "cell_type": "code",
   "execution_count": 39,
   "metadata": {},
   "outputs": [
    {
     "data": {
      "text/plain": [
       "0.76899030947170988"
      ]
     },
     "execution_count": 39,
     "metadata": {},
     "output_type": "execute_result"
    }
   ],
   "source": [
    "y_hat_log_best = log_4.predict(X_test)\n",
    "score2_log = accuracy_score(y_test, y_hat_log_best)\n",
    "score2_log"
   ]
  },
  {
   "cell_type": "markdown",
   "metadata": {},
   "source": [
    "Обучение. Мультиномиальный наивный Байес"
   ]
  },
  {
   "cell_type": "code",
   "execution_count": 40,
   "metadata": {},
   "outputs": [
    {
     "name": "stdout",
     "output_type": "stream",
     "text": [
      "0.012006759643554688\n",
      "0.003001689910888672\n"
     ]
    }
   ],
   "source": [
    "mnb_4 = MultinomialNB(alpha=0.37275937203149417)\n",
    "start2_fit_mnb = time.time()\n",
    "mnb_4.fit(X_train, y_train)\n",
    "end2_fit_mnb = time.time()\n",
    "time2_fit_mnb = end2_fit_mnb - start2_fit_mnb\n",
    "print(time2_fit_mnb)\n",
    "\n",
    "start2_pred_mnb = time.time()\n",
    "mnb_4.predict(X_test)\n",
    "end2_pred_mnb = time.time()\n",
    "time2_pred_mnb = end2_pred_mnb - start2_pred_mnb\n",
    "print(time2_pred_mnb)"
   ]
  },
  {
   "cell_type": "code",
   "execution_count": 41,
   "metadata": {},
   "outputs": [
    {
     "data": {
      "text/plain": [
       "0.77555486089402936"
      ]
     },
     "execution_count": 41,
     "metadata": {},
     "output_type": "execute_result"
    }
   ],
   "source": [
    "y_hat_mnb_best = mnb_4.predict(X_test)\n",
    "score2_mnb = accuracy_score(y_test, y_hat_mnb_best)\n",
    "score2_mnb"
   ]
  },
  {
   "cell_type": "markdown",
   "metadata": {},
   "source": [
    "При n_grams = (2,2):"
   ]
  },
  {
   "cell_type": "code",
   "execution_count": 42,
   "metadata": {},
   "outputs": [],
   "source": [
    "tf_2 = TfidfVectorizer(lowercase=True, ngram_range=(2,2))\n",
    "vect_2 = tf_2.fit_transform(df.phrase.values)"
   ]
  },
  {
   "cell_type": "code",
   "execution_count": 43,
   "metadata": {
    "collapsed": true
   },
   "outputs": [],
   "source": [
    "X_train_2, X_test_2, y_train_2, y_test_2 = train_test_split(vect_2, df.ans.values, test_size=0.3, random_state = 123)"
   ]
  },
  {
   "cell_type": "markdown",
   "metadata": {},
   "source": [
    "Для K ближайших соседей:"
   ]
  },
  {
   "cell_type": "code",
   "execution_count": 44,
   "metadata": {
    "collapsed": true
   },
   "outputs": [],
   "source": [
    "knn_5 = KNeighborsClassifier(n_neighbors=list(ns))\n",
    "param_dict_knn = {'n_neighbors':list(ns)}\n",
    "grid_knn2 = GridSearchCV(estimator= knn_5, cv=kf, param_grid = param_dict_knn, scoring = right_answers)\n",
    "grid_knn2.fit(X_train_2, y_train_2)\n",
    "error_test_knn2 = grid_knn2.cv_results_.get('mean_test_score')\n",
    "error_train_knn2 = grid_knn2.cv_results_.get('mean_train_score')"
   ]
  },
  {
   "cell_type": "code",
   "execution_count": 45,
   "metadata": {},
   "outputs": [
    {
     "data": {
      "text/plain": [
       "<matplotlib.legend.Legend at 0x2a380fd1f28>"
      ]
     },
     "execution_count": 45,
     "metadata": {},
     "output_type": "execute_result"
    },
    {
     "data": {
      "image/png": "[encoded data removed]",
      "text/plain": [
       "<matplotlib.figure.Figure at 0x2a381209e48>"
      ]
     },
     "metadata": {},
     "output_type": "display_data"
    }
   ],
   "source": [
    "plt.scatter(list(ns), error_test_knn2, c= 'blue', label='test')\n",
    "plt.scatter(list(ns), error_train_knn2, label='test')\n",
    "plt.xlabel('Number of Neighbors')\n",
    "plt.ylabel('Accuracy')\n",
    "plt.legend(loc=5)"
   ]
  },
  {
   "cell_type": "code",
   "execution_count": 46,
   "metadata": {},
   "outputs": [
    {
     "data": {
      "text/plain": [
       "{'n_neighbors': 41}"
      ]
     },
     "execution_count": 46,
     "metadata": {},
     "output_type": "execute_result"
    }
   ],
   "source": [
    "grid_knn2.best_params_"
   ]
  },
  {
   "cell_type": "code",
   "execution_count": 47,
   "metadata": {},
   "outputs": [
    {
     "name": "stdout",
     "output_type": "stream",
     "text": [
      "0.009008407592773438\n",
      "2.1555328369140625\n"
     ]
    }
   ],
   "source": [
    "knn_6 = KNeighborsClassifier(n_neighbors=41)\n",
    "\n",
    "start3_fit_knn = time.time()\n",
    "knn_6.fit(X_train_2, y_train_2)\n",
    "end3_fit_knn = time.time()\n",
    "time3_fit_knn = end3_fit_knn - start3_fit_knn\n",
    "print(time3_fit_knn)\n",
    "\n",
    "start3_pred_knn = time.time()\n",
    "knn_6.predict(X_test_2)\n",
    "end3_pred_knn = time.time()\n",
    "time3_pred_knn = end3_pred_knn - start3_pred_knn\n",
    "print(time3_pred_knn)\n",
    "\n"
   ]
  },
  {
   "cell_type": "code",
   "execution_count": 48,
   "metadata": {},
   "outputs": [
    {
     "data": {
      "text/plain": [
       "0.64864020006251955"
      ]
     },
     "execution_count": 48,
     "metadata": {},
     "output_type": "execute_result"
    }
   ],
   "source": [
    "y_hat_knn_best6 = knn_6.predict(X_test_2)\n",
    "score3_knn = accuracy_score(y_test_2, y_hat_knn_best6)\n",
    "score3_knn"
   ]
  },
  {
   "cell_type": "markdown",
   "metadata": {},
   "source": [
    "Для логистической регрессии:"
   ]
  },
  {
   "cell_type": "code",
   "execution_count": 49,
   "metadata": {},
   "outputs": [],
   "source": [
    "log_5 = LogisticRegression(C=list(cs), penalty=\"l2\", fit_intercept=True, max_iter=100, solver=\"lbfgs\", random_state=123)\n",
    "param_dict_log = {'C': list(cs)} \n",
    "grid_log2 = GridSearchCV(estimator=log_5, cv=kf, param_grid = param_dict_log, scoring = right_answers)\n",
    "grid_log2.fit(X_train_2, y_train_2)\n",
    "\n",
    "error_test_log2 = grid_log2.cv_results_.get('mean_test_score')\n",
    "error_train_log2 = grid_log2.cv_results_.get('mean_train_score')"
   ]
  },
  {
   "cell_type": "code",
   "execution_count": 50,
   "metadata": {},
   "outputs": [
    {
     "data": {
      "text/plain": [
       "<matplotlib.legend.Legend at 0x2a380f6e748>"
      ]
     },
     "execution_count": 50,
     "metadata": {},
     "output_type": "execute_result"
    },
    {
     "data": {
      "image/png": "[encoded data removed]",
      "text/plain": [
       "<matplotlib.figure.Figure at 0x2a3810b7358>"
      ]
     },
     "metadata": {},
     "output_type": "display_data"
    }
   ],
   "source": [
    "plt.scatter(list(cs), error_test_log2, c = 'blue', label = 'test')\n",
    "plt.scatter(list(cs), error_train_log2, label = 'train')\n",
    "plt.xlabel('Parameter of Regularization')\n",
    "plt.ylabel('Accuracy')\n",
    "plt.legend(loc=5)"
   ]
  },
  {
   "cell_type": "code",
   "execution_count": 51,
   "metadata": {},
   "outputs": [
    {
     "data": {
      "text/plain": [
       "{'C': 193069772.88832456}"
      ]
     },
     "execution_count": 51,
     "metadata": {},
     "output_type": "execute_result"
    }
   ],
   "source": [
    "grid_log2.best_params_"
   ]
  },
  {
   "cell_type": "code",
   "execution_count": 52,
   "metadata": {},
   "outputs": [
    {
     "name": "stdout",
     "output_type": "stream",
     "text": [
      "2.276120662689209\n",
      "0.004999637603759766\n"
     ]
    }
   ],
   "source": [
    "log_6 = LogisticRegression(C=193069772.88832456, penalty=\"l2\", fit_intercept=True, max_iter=100, solver=\"lbfgs\", random_state=123)\n",
    "start3_fit_log = time.time()\n",
    "log_6.fit(X_train_2, y_train_2)\n",
    "end3_fit_log = time.time()\n",
    "time3_fit_log = end3_fit_log - start3_fit_log\n",
    "print(time3_fit_log)\n",
    "\n",
    "start3_pred_log = time.time()\n",
    "log_6.predict(X_test_2)\n",
    "end3_pred_log = time.time()\n",
    "time3_pred_log = end3_pred_log - start3_pred_log\n",
    "print(time3_pred_log)\n"
   ]
  },
  {
   "cell_type": "code",
   "execution_count": 53,
   "metadata": {},
   "outputs": [
    {
     "data": {
      "text/plain": [
       "0.70459518599562365"
      ]
     },
     "execution_count": 53,
     "metadata": {},
     "output_type": "execute_result"
    }
   ],
   "source": [
    "y_hat_log_best = log_6.predict(X_test_2)\n",
    "score3_log = accuracy_score(y_test_2, y_hat_log_best)\n",
    "score3_log"
   ]
  },
  {
   "cell_type": "markdown",
   "metadata": {},
   "source": [
    "Для мультиномиального наивного Байеса:"
   ]
  },
  {
   "cell_type": "code",
   "execution_count": 54,
   "metadata": {},
   "outputs": [],
   "source": [
    "mnb_5 = MultinomialNB(alpha=list(alphas))\n",
    "param_dict_mnb = {'alpha': list(alphas)} \n",
    "grid_mnb2 = GridSearchCV(estimator=mnb_5, cv=kf, param_grid = param_dict_mnb, scoring = right_answers)\n",
    "grid_mnb2.fit(X_train_2, y_train_2)\n",
    "error_test_mnb2 = grid_mnb2.cv_results_.get('mean_test_score')\n",
    "error_train_mnb2 = grid_mnb2.cv_results_.get('mean_train_score')"
   ]
  },
  {
   "cell_type": "code",
   "execution_count": 55,
   "metadata": {},
   "outputs": [
    {
     "data": {
      "text/plain": [
       "<matplotlib.legend.Legend at 0x2a3818f7fd0>"
      ]
     },
     "execution_count": 55,
     "metadata": {},
     "output_type": "execute_result"
    },
    {
     "data": {
      "image/png": "[encoded data removed]",
      "text/plain": [
       "<matplotlib.figure.Figure at 0x2a38102ffd0>"
      ]
     },
     "metadata": {},
     "output_type": "display_data"
    }
   ],
   "source": [
    "plt.scatter(list(alphas), error_test_mnb2, c='blue', label = 'test')\n",
    "plt.scatter(list(alphas), error_train_mnb2, label = 'train')\n",
    "plt.xlabel('Parameter Alpha')\n",
    "plt.ylabel('Accuracy')\n",
    "plt.legend(loc=5)"
   ]
  },
  {
   "cell_type": "code",
   "execution_count": 56,
   "metadata": {},
   "outputs": [
    {
     "data": {
      "text/plain": [
       "{'alpha': 0.37275937203149417}"
      ]
     },
     "execution_count": 56,
     "metadata": {},
     "output_type": "execute_result"
    }
   ],
   "source": [
    "grid_mnb2.best_params_"
   ]
  },
  {
   "cell_type": "code",
   "execution_count": 57,
   "metadata": {},
   "outputs": [
    {
     "name": "stdout",
     "output_type": "stream",
     "text": [
      "0.03252410888671875\n",
      "0.01147913932800293\n"
     ]
    }
   ],
   "source": [
    "mnb_6 = MultinomialNB(alpha=0.37275937203149417)\n",
    "\n",
    "start3_fit_mnb = time.time()\n",
    "mnb_6.fit(X_train_2, y_train_2)\n",
    "end3_fit_mnb = time.time()\n",
    "time3_fit_mnb = end3_fit_mnb - start3_fit_mnb\n",
    "print(time3_fit_mnb)\n",
    "\n",
    "start3_pred_mnb = time.time()\n",
    "mnb_6.predict(X_test_2)\n",
    "end3_pred_mnb = time.time()\n",
    "time3_pred_mnb = end3_pred_mnb - start3_pred_mnb\n",
    "print(time3_pred_mnb)"
   ]
  },
  {
   "cell_type": "code",
   "execution_count": 58,
   "metadata": {},
   "outputs": [
    {
     "data": {
      "text/plain": [
       "0.71897467958737105"
      ]
     },
     "execution_count": 58,
     "metadata": {},
     "output_type": "execute_result"
    }
   ],
   "source": [
    "y_hat_mnb_best = mnb_6.predict(X_test_2)\n",
    "score3_mnb = accuracy_score(y_test_2, y_hat_mnb_best)\n",
    "score3_mnb"
   ]
  },
  {
   "cell_type": "code",
   "execution_count": 59,
   "metadata": {},
   "outputs": [
    {
     "data": {
      "text/html": [
       "<div>\n",
       "<table border=\"1\" class=\"dataframe\">\n",
       "  <thead>\n",
       "    <tr style=\"text-align: right;\">\n",
       "      <th></th>\n",
       "      <th>accuracy</th>\n",
       "      <th>method</th>\n",
       "      <th>ngrams</th>\n",
       "      <th>parameter</th>\n",
       "      <th>time_fit</th>\n",
       "      <th>time_pred</th>\n",
       "    </tr>\n",
       "  </thead>\n",
       "  <tbody>\n",
       "    <tr>\n",
       "      <th>0</th>\n",
       "      <td>0.753360</td>\n",
       "      <td>knn</td>\n",
       "      <td>1</td>\n",
       "      <td>81</td>\n",
       "      <td>0.009001</td>\n",
       "      <td>4.322075</td>\n",
       "    </tr>\n",
       "    <tr>\n",
       "      <th>1</th>\n",
       "      <td>0.768990</td>\n",
       "      <td>log</td>\n",
       "      <td>1</td>\n",
       "      <td>26.826957952797247</td>\n",
       "      <td>1.282913</td>\n",
       "      <td>0.003008</td>\n",
       "    </tr>\n",
       "    <tr>\n",
       "      <th>2</th>\n",
       "      <td>0.775555</td>\n",
       "      <td>mnb</td>\n",
       "      <td>1</td>\n",
       "      <td>0.37275937203149417</td>\n",
       "      <td>0.012007</td>\n",
       "      <td>0.003002</td>\n",
       "    </tr>\n",
       "    <tr>\n",
       "      <th>3</th>\n",
       "      <td>0.648640</td>\n",
       "      <td>knn</td>\n",
       "      <td>2</td>\n",
       "      <td>41</td>\n",
       "      <td>0.009008</td>\n",
       "      <td>2.155533</td>\n",
       "    </tr>\n",
       "    <tr>\n",
       "      <th>4</th>\n",
       "      <td>0.704595</td>\n",
       "      <td>log</td>\n",
       "      <td>2</td>\n",
       "      <td>193069772.88832456</td>\n",
       "      <td>2.276121</td>\n",
       "      <td>0.005000</td>\n",
       "    </tr>\n",
       "    <tr>\n",
       "      <th>5</th>\n",
       "      <td>0.718975</td>\n",
       "      <td>mnb</td>\n",
       "      <td>2</td>\n",
       "      <td>0.37275937203149417</td>\n",
       "      <td>0.032524</td>\n",
       "      <td>0.011479</td>\n",
       "    </tr>\n",
       "  </tbody>\n",
       "</table>\n",
       "</div>"
      ],
      "text/plain": [
       "   accuracy method  ngrams            parameter  time_fit  time_pred\n",
       "0  0.753360    knn       1                   81  0.009001   4.322075\n",
       "1  0.768990    log       1   26.826957952797247  1.282913   0.003008\n",
       "2  0.775555    mnb       1  0.37275937203149417  0.012007   0.003002\n",
       "3  0.648640    knn       2                   41  0.009008   2.155533\n",
       "4  0.704595    log       2   193069772.88832456  2.276121   0.005000\n",
       "5  0.718975    mnb       2  0.37275937203149417  0.032524   0.011479"
      ]
     },
     "execution_count": 59,
     "metadata": {},
     "output_type": "execute_result"
    }
   ],
   "source": [
    "result = pd.DataFrame({\"method\":['knn', 'log', 'mnb', 'knn', 'log', 'mnb'], \"ngrams\" :[1, 1, 1, 2, 2, 2], \"parameter\" : \n",
    "                       ['81', '26.826957952797247', '0.37275937203149417', '41', '193069772.88832456',\n",
    "                        '0.37275937203149417'], \"time_fit\": [time2_fit_knn, time2_fit_log, time2_fit_mnb, time3_fit_knn,\n",
    "                        time3_fit_log, time3_fit_mnb], \"time_pred\": [time2_pred_knn, time2_pred_log, time2_pred_mnb, \n",
    "                                                                    time3_pred_knn, time3_pred_log, time3_pred_mnb],\n",
    "                       \"accuracy\":[score2_knn, score2_log, score2_mnb, score3_knn, score3_log, score3_mnb]})\n",
    "result"
   ]
  },
  {
   "cell_type": "code",
   "execution_count": 60,
   "metadata": {
    "collapsed": true
   },
   "outputs": [],
   "source": [
    "#KNN быстро обучается (как такого обучения у метода и нет), но долго предсказывает и accuracy у него самая низкая.\n",
    "#LOG долго обучается, но быстро делает предсказания, и доля правильных ответов выше, чем у KNN и достаточно близка к доле MNB \n",
    "#Но по сути быстрее всех (точнее имеет хорошее время и в обучении, и в предсказании) и с лучшим качеством работает MNB "
   ]
  },
  {
   "cell_type": "markdown",
   "metadata": {},
   "source": [
    "## Задача 4. (опционально)\n",
    "#### Исследование влияния количества признаков FeatureHasher на качество классификации (5 баллов к сумме по всем ДЗ) "
   ]
  },
  {
   "cell_type": "markdown",
   "metadata": {},
   "source": [
    "<p>Как будет меняться качество классификации для обозначенных ранее методов при использовании FeatureHasher (или HashingVectorizer) из пакета sklearn перед TF-IDF преобразованием, если</p>"
   ]
  },
  {
   "cell_type": "code",
   "execution_count": 76,
   "metadata": {},
   "outputs": [
    {
     "data": {
      "text/plain": [
       "[10, 100, 1000, 10000, 100000]"
      ]
     },
     "execution_count": 76,
     "metadata": {},
     "output_type": "execute_result"
    }
   ],
   "source": [
    "n_feat = np.logspace(1, 5, 5, base=10)\n",
    "n_feat = [int(x) for x in list(n_features)]# количество признаков\n",
    "non_negative=True\n",
    "n_feat"
   ]
  },
  {
   "cell_type": "markdown",
   "metadata": {},
   "source": [
    "<p>Можно воспользоваться GridSearchCV</p>"
   ]
  },
  {
   "cell_type": "code",
   "execution_count": 79,
   "metadata": {},
   "outputs": [],
   "source": [
    "from sklearn.feature_extraction.text import HashingVectorizer\n",
    "feat = HashingVectorizer(n_features = 10, non_negative=True)\n",
    "features = feat.fit_transform(df.phrase.values)"
   ]
  },
  {
   "cell_type": "code",
   "execution_count": 80,
   "metadata": {
    "collapsed": true
   },
   "outputs": [],
   "source": [
    "X_train_3, X_test_3, y_train_3, y_test_3= train_test_split(features, df.ans.values, test_size=0.3, random_state = 123)"
   ]
  },
  {
   "cell_type": "markdown",
   "metadata": {},
   "source": [
    "К ближайших соседей:"
   ]
  },
  {
   "cell_type": "code",
   "execution_count": 81,
   "metadata": {},
   "outputs": [
    {
     "data": {
      "text/plain": [
       "GridSearchCV(cv=KFold(n_splits=4, random_state=123, shuffle=False),\n",
       "       error_score='raise',\n",
       "       estimator=KNeighborsClassifier(algorithm='auto', leaf_size=30, metric='minkowski',\n",
       "           metric_params=None, n_jobs=1,\n",
       "           n_neighbors=[1, 21, 41, 61, 81, 101, 121, 141], p=2,\n",
       "           weights='uniform'),\n",
       "       fit_params={}, iid=True, n_jobs=1,\n",
       "       param_grid={'n_neighbors': [1, 21, 41, 61, 81, 101, 121, 141]},\n",
       "       pre_dispatch='2*n_jobs', refit=True, return_train_score=True,\n",
       "       scoring=make_scorer(accuracy_score), verbose=0)"
      ]
     },
     "execution_count": 81,
     "metadata": {},
     "output_type": "execute_result"
    }
   ],
   "source": [
    "knn_hash = KNeighborsClassifier(n_neighbors=list(ns))\n",
    "param_dict_knn = {'n_neighbors':list(ns)}\n",
    "grid_knn3 = GridSearchCV(estimator= knn_hash, cv=kf, param_grid = param_dict_knn, scoring = right_answers)\n",
    "grid_knn3.fit(X_train_3, y_train_3)\n",
    "grid_knn2.best_params_"
   ]
  },
  {
   "cell_type": "code",
   "execution_count": 84,
   "metadata": {},
   "outputs": [
    {
     "data": {
      "text/plain": [
       "0.4989059080962801"
      ]
     },
     "execution_count": 84,
     "metadata": {},
     "output_type": "execute_result"
    }
   ],
   "source": [
    "knn_hash1 = KNeighborsClassifier(n_neighbors=41)\n",
    "knn_hash1.fit(X_train_3, y_train_3)\n",
    "y_hat_knn_hash1 = knn_hash1.predict(X_test_3)\n",
    "accuracy_score(y_test_3, y_hat_knn_hash1)"
   ]
  },
  {
   "cell_type": "markdown",
   "metadata": {},
   "source": [
    "Логистическая регрессия:"
   ]
  },
  {
   "cell_type": "code",
   "execution_count": 88,
   "metadata": {},
   "outputs": [
    {
     "data": {
      "text/plain": [
       "{'C': 26.826957952797247}"
      ]
     },
     "execution_count": 88,
     "metadata": {},
     "output_type": "execute_result"
    }
   ],
   "source": [
    "log_hash = LogisticRegression(C=list(cs), penalty=\"l2\", fit_intercept=True, max_iter=100, solver=\"lbfgs\", random_state=123)\n",
    "param_dict_log = {'C':list(cs)}\n",
    "grid_log3 = GridSearchCV(estimator=log_hash, cv=kf, param_grid = param_dict_log, scoring = right_answers)\n",
    "grid_log3.fit(X_train_3, y_train_3)\n",
    "grid_log3.best_params_"
   ]
  },
  {
   "cell_type": "code",
   "execution_count": 90,
   "metadata": {},
   "outputs": [
    {
     "data": {
      "text/plain": [
       "0.53297905595498596"
      ]
     },
     "execution_count": 90,
     "metadata": {},
     "output_type": "execute_result"
    }
   ],
   "source": [
    "log_hash1 = LogisticRegression(C=26.826957952797247, penalty=\"l2\", fit_intercept=True, max_iter=100, solver=\"lbfgs\", random_state=123)\n",
    "log_hash1.fit(X_train_3, y_train_3)\n",
    "y_hat_log_hash1 = log_hash1.predict(X_test_3)\n",
    "accuracy_score(y_test_3, y_hat_log_hash1)"
   ]
  },
  {
   "cell_type": "markdown",
   "metadata": {},
   "source": [
    "Мультиномиальный наивный Байес"
   ]
  },
  {
   "cell_type": "code",
   "execution_count": 92,
   "metadata": {},
   "outputs": [
    {
     "data": {
      "text/plain": [
       "{'alpha': 0.0001}"
      ]
     },
     "execution_count": 92,
     "metadata": {},
     "output_type": "execute_result"
    }
   ],
   "source": [
    "mnb_hash1 = MultinomialNB(alpha=list(alphas))\n",
    "param_dict_mnb = {'alpha': list(alphas)} \n",
    "grid_mnb3 = GridSearchCV(estimator=mnb_hash1, cv=kf, param_grid = param_dict_mnb, scoring = right_answers)\n",
    "grid_mnb3.fit(X_train_3, y_train_3)\n",
    "grid_mnb3.best_params_"
   ]
  },
  {
   "cell_type": "code",
   "execution_count": 93,
   "metadata": {},
   "outputs": [
    {
     "data": {
      "text/plain": [
       "0.5298530790872148"
      ]
     },
     "execution_count": 93,
     "metadata": {},
     "output_type": "execute_result"
    }
   ],
   "source": [
    "mnb_hash1 = MultinomialNB(alpha=0.0001)\n",
    "mnb_hash1.fit(X_train_3, y_train_3)\n",
    "y_hat_mnb_hash1 = mnb_hash1.predict(X_test_3)\n",
    "accuracy_score(y_test_3, y_hat_mnb_hash1)\n",
    "\n",
    "#качество для всех моделей ухудшилось, log даже лучше работает чем mnb"
   ]
  }
 ],
 "metadata": {
  "anaconda-cloud": {},
  "kernelspec": {
   "display_name": "Python 3",
   "language": "python",
   "name": "python3"
  },
  "language_info": {
   "codemirror_mode": {
    "name": "ipython",
    "version": 3
   },
   "file_extension": ".py",
   "mimetype": "text/x-python",
   "name": "python",
   "nbconvert_exporter": "python",
   "pygments_lexer": "ipython3",
   "version": "3.6.1"
  },
  "nav_menu": {},
  "toc": {
   "navigate_menu": true,
   "number_sections": false,
   "sideBar": true,
   "threshold": 6,
   "toc_cell": false,
   "toc_section_display": "block",
   "toc_window_display": true
  }
 },
 "nbformat": 4,
 "nbformat_minor": 2
}
