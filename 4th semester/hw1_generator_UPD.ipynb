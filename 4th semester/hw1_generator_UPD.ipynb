{
 "cells": [
  {
   "cell_type": "markdown",
   "metadata": {},
   "source": [
    "# Майнор \"Прикладные задачи анализа данных\"\n",
    "## Домашнее задание 1 \n",
    "\n",
    "Задание выполнено в группе: Дымченко Софья, Рогачевская Анастасия, Синицин Антон [ИАД3]"
   ]
  },
  {
   "cell_type": "markdown",
   "metadata": {},
   "source": [
    "## Постановка задачи \n",
    "В данной работе предлагается реализовать генератор описания прогноза погоды по трем шаблонам на ближайшие 10 дней в выбранном городе (Уренгой) выгрузив данные с сайта gismeteo.ru:\n",
    "https://www.gismeteo.ru/weather-urengoy-3972/10-days/"
   ]
  },
  {
   "cell_type": "markdown",
   "metadata": {},
   "source": [
    "### Формулировка задачи\n",
    "\n",
    "(1) Собрать данные с сайта и вывести их в виде таблицы, в столбцах которой даты и дни недели, а в строках следующие показатели:\n",
    "\n",
    "* минимальная температура,\n",
    "* максимальная температура,\n",
    "* скорость ветра,\n",
    "* уровень осадков.\n",
    "\n",
    "(2) Написать генератор описания прогноза, состоящий из трех предлагаемых шаблонов. На входе от пользователя str(day1, day2) - две даты, за которые пользователь хочет узнать как изменилась погода. На выходе текст из трех предложений - изменение температуры, скорости ветра и уровня осадков.\n",
    "\n",
    "(3) Ответить на вопросы."
   ]
  },
  {
   "cell_type": "markdown",
   "metadata": {},
   "source": [
    "### 1. Сбор данных [3 балла]\n",
    "\n"
   ]
  },
  {
   "cell_type": "markdown",
   "metadata": {},
   "source": [
    "Будем использовать библиотеку BeautifulSoup4 для парсинга веб страницы, выгруженной с помощью urllib.request."
   ]
  },
  {
   "cell_type": "code",
   "execution_count": 1,
   "metadata": {
    "collapsed": true
   },
   "outputs": [],
   "source": [
    "from bs4 import BeautifulSoup\n",
    "from urllib.request import urlopen\n",
    "import re\n",
    "import numpy as np\n",
    "\n",
    "page = urlopen(\"https://www.gismeteo.ru/weather-urengoy-3972/10-days/\")\n",
    "soup = BeautifulSoup(page, 'lxml')\n"
   ]
  },
  {
   "cell_type": "markdown",
   "metadata": {},
   "source": [
    "* В инспекторе в браузере на странице ищем теги, внутри которых хранится нужная нам информация о показателях и датах. \n",
    "* В основном это div-ы с атрибутом class, названия которого нам и нужны, так как они более или менее уникальные. \n",
    "* Для каждого показателя с помощью bs4 находим теги, извлекаем текст, отрезаем пробелы и \\n, заносим в списки.\n",
    "\n",
    "Создадим функцию, так как для каждого показателя последнее действие отличается только переменной списка, куда класть значения, и строкой названия класса нужного тега."
   ]
  },
  {
   "cell_type": "code",
   "execution_count": 2,
   "metadata": {
    "collapsed": true
   },
   "outputs": [],
   "source": [
    "dates, weekdays, maxtemps, mintemps, winds, precips = [], [], [], [], [], []\n",
    "\n",
    "def indicator(class_name_string, ind_list):\n",
    "    for pos in soup.findAll(class_=re.compile(class_name_string))[:10]:\n",
    "        ind_list.append(pos.get_text().strip())\n",
    "    return ind_list\n"
   ]
  },
  {
   "cell_type": "markdown",
   "metadata": {},
   "source": [
    "Теперь заполним списки данными, а так же немного подправим их типы:"
   ]
  },
  {
   "cell_type": "code",
   "execution_count": 3,
   "metadata": {},
   "outputs": [
    {
     "data": {
      "text/plain": [
       "[17, 18, 19, 20, 21, 22, 23, 24, 25, 26]"
      ]
     },
     "execution_count": 3,
     "metadata": {},
     "output_type": "execute_result"
    }
   ],
   "source": [
    "indicator(\"date__date\", dates)\n",
    "dates[0]=re.match('\\d\\d?', dates[0]).group()\n",
    "dates = [int(x) for x in dates]\n",
    "dates"
   ]
  },
  {
   "cell_type": "code",
   "execution_count": 4,
   "metadata": {},
   "outputs": [
    {
     "data": {
      "text/plain": [
       "['сб', 'вс', 'пн', 'вт', 'ср', 'чт', 'пт', 'сб', 'вс', 'пн']"
      ]
     },
     "execution_count": 4,
     "metadata": {},
     "output_type": "execute_result"
    }
   ],
   "source": [
    "indicator(\"date__day\", weekdays)\n",
    "weekdays = [x.lower() for x in weekdays]\n",
    "weekdays"
   ]
  },
  {
   "cell_type": "code",
   "execution_count": 5,
   "metadata": {},
   "outputs": [
    {
     "data": {
      "text/plain": [
       "[-11, -13, -14, -20, -26, -26, -29, -29, -28, -26]"
      ]
     },
     "execution_count": 5,
     "metadata": {},
     "output_type": "execute_result"
    }
   ],
   "source": [
    "indicator(\"maxt\", maxtemps)\n",
    "for i in range(len(maxtemps)):\n",
    "    if '−' in maxtemps[i]:\n",
    "        maxtemps[i] = -int(maxtemps[i][1:])\n",
    "    else:\n",
    "        maxtemps[i] = int(maxtemps[i])\n",
    "maxtemps"
   ]
  },
  {
   "cell_type": "code",
   "execution_count": 6,
   "metadata": {},
   "outputs": [
    {
     "data": {
      "text/plain": [
       "[-16, -17, -18, -27, -30, -29, -31, -31, -32, -33]"
      ]
     },
     "execution_count": 6,
     "metadata": {},
     "output_type": "execute_result"
    }
   ],
   "source": [
    "indicator(\"mint\", mintemps)\n",
    "for i in range(len(mintemps)):\n",
    "    if '−' in mintemps[i]:\n",
    "        mintemps[i] = -int(mintemps[i][1:])\n",
    "    else:\n",
    "        mintemps[i] = int(mintemps[i])\n",
    "mintemps"
   ]
  },
  {
   "cell_type": "code",
   "execution_count": 7,
   "metadata": {},
   "outputs": [
    {
     "data": {
      "text/plain": [
       "[5, 7, 7, 7, 4, 7, 7, 8, 8, 14]"
      ]
     },
     "execution_count": 7,
     "metadata": {},
     "output_type": "execute_result"
    }
   ],
   "source": [
    "indicator(\"w_wind__warning\", winds)\n",
    "winds = [int(x) for x in winds]\n",
    "winds"
   ]
  },
  {
   "cell_type": "code",
   "execution_count": 8,
   "metadata": {},
   "outputs": [
    {
     "data": {
      "text/plain": [
       "[0.6, 0.5, 0.6, 0.1, 0.0, 0.0, 0.0, 0.0, 0.0, 1.2]"
      ]
     },
     "execution_count": 8,
     "metadata": {},
     "output_type": "execute_result"
    }
   ],
   "source": [
    "indicator(\"precipitation__value\", precips)  \n",
    "for i in range(len(maxtemps)):\n",
    "    if ',' in precips[i]:\n",
    "        precips[i] = precips[i].replace(',', '.')\n",
    "        precips[i] = float(precips[i])\n",
    "    else:\n",
    "        precips[i] = float(precips[i])\n",
    "precips"
   ]
  },
  {
   "cell_type": "markdown",
   "metadata": {},
   "source": [
    "Сформируем окончательно словарь dataframe для удобства:"
   ]
  },
  {
   "cell_type": "code",
   "execution_count": 9,
   "metadata": {
    "collapsed": true
   },
   "outputs": [],
   "source": [
    "days = []\n",
    "for i in range(len(dates)):\n",
    "    days.append(str(dates[i]) + \" \" + weekdays[i])\n",
    "\n",
    "line_names = ['максимальная температура', 'минимальная температура', 'скорость ветра', 'уровень осадков']"
   ]
  },
  {
   "cell_type": "code",
   "execution_count": 10,
   "metadata": {
    "collapsed": true
   },
   "outputs": [],
   "source": [
    "ind=zip(maxtemps, mintemps, winds, precips)\n",
    "data_forecast = dict(zip(days, ind))"
   ]
  },
  {
   "cell_type": "code",
   "execution_count": 11,
   "metadata": {
    "collapsed": true
   },
   "outputs": [],
   "source": [
    "import pandas as pd\n",
    "data = pd.DataFrame(data_forecast, index=line_names)"
   ]
  },
  {
   "cell_type": "code",
   "execution_count": 12,
   "metadata": {},
   "outputs": [
    {
     "data": {
      "text/html": [
       "<div>\n",
       "<style>\n",
       "    .dataframe thead tr:only-child th {\n",
       "        text-align: right;\n",
       "    }\n",
       "\n",
       "    .dataframe thead th {\n",
       "        text-align: left;\n",
       "    }\n",
       "\n",
       "    .dataframe tbody tr th {\n",
       "        vertical-align: top;\n",
       "    }\n",
       "</style>\n",
       "<table border=\"1\" class=\"dataframe\">\n",
       "  <thead>\n",
       "    <tr style=\"text-align: right;\">\n",
       "      <th></th>\n",
       "      <th>17 сб</th>\n",
       "      <th>18 вс</th>\n",
       "      <th>19 пн</th>\n",
       "      <th>20 вт</th>\n",
       "      <th>21 ср</th>\n",
       "      <th>22 чт</th>\n",
       "      <th>23 пт</th>\n",
       "      <th>24 сб</th>\n",
       "      <th>25 вс</th>\n",
       "      <th>26 пн</th>\n",
       "    </tr>\n",
       "  </thead>\n",
       "  <tbody>\n",
       "    <tr>\n",
       "      <th>максимальная температура</th>\n",
       "      <td>-11.0</td>\n",
       "      <td>-13.0</td>\n",
       "      <td>-14.0</td>\n",
       "      <td>-20.0</td>\n",
       "      <td>-26.0</td>\n",
       "      <td>-26.0</td>\n",
       "      <td>-29.0</td>\n",
       "      <td>-29.0</td>\n",
       "      <td>-28.0</td>\n",
       "      <td>-26.0</td>\n",
       "    </tr>\n",
       "    <tr>\n",
       "      <th>минимальная температура</th>\n",
       "      <td>-16.0</td>\n",
       "      <td>-17.0</td>\n",
       "      <td>-18.0</td>\n",
       "      <td>-27.0</td>\n",
       "      <td>-30.0</td>\n",
       "      <td>-29.0</td>\n",
       "      <td>-31.0</td>\n",
       "      <td>-31.0</td>\n",
       "      <td>-32.0</td>\n",
       "      <td>-33.0</td>\n",
       "    </tr>\n",
       "    <tr>\n",
       "      <th>скорость ветра</th>\n",
       "      <td>5.0</td>\n",
       "      <td>7.0</td>\n",
       "      <td>7.0</td>\n",
       "      <td>7.0</td>\n",
       "      <td>4.0</td>\n",
       "      <td>7.0</td>\n",
       "      <td>7.0</td>\n",
       "      <td>8.0</td>\n",
       "      <td>8.0</td>\n",
       "      <td>14.0</td>\n",
       "    </tr>\n",
       "    <tr>\n",
       "      <th>уровень осадков</th>\n",
       "      <td>0.6</td>\n",
       "      <td>0.5</td>\n",
       "      <td>0.6</td>\n",
       "      <td>0.1</td>\n",
       "      <td>0.0</td>\n",
       "      <td>0.0</td>\n",
       "      <td>0.0</td>\n",
       "      <td>0.0</td>\n",
       "      <td>0.0</td>\n",
       "      <td>1.2</td>\n",
       "    </tr>\n",
       "  </tbody>\n",
       "</table>\n",
       "</div>"
      ],
      "text/plain": [
       "                          17 сб  18 вс  19 пн  20 вт  21 ср  22 чт  23 пт  \\\n",
       "максимальная температура  -11.0  -13.0  -14.0  -20.0  -26.0  -26.0  -29.0   \n",
       "минимальная температура   -16.0  -17.0  -18.0  -27.0  -30.0  -29.0  -31.0   \n",
       "скорость ветра              5.0    7.0    7.0    7.0    4.0    7.0    7.0   \n",
       "уровень осадков             0.6    0.5    0.6    0.1    0.0    0.0    0.0   \n",
       "\n",
       "                          24 сб  25 вс  26 пн  \n",
       "максимальная температура  -29.0  -28.0  -26.0  \n",
       "минимальная температура   -31.0  -32.0  -33.0  \n",
       "скорость ветра              8.0    8.0   14.0  \n",
       "уровень осадков             0.0    0.0    1.2  "
      ]
     },
     "execution_count": 12,
     "metadata": {},
     "output_type": "execute_result"
    }
   ],
   "source": [
    "data\n"
   ]
  },
  {
   "cell_type": "code",
   "execution_count": 13,
   "metadata": {
    "collapsed": true
   },
   "outputs": [],
   "source": [
    "ind_2=zip(weekdays, maxtemps, mintemps, winds, precips)\n",
    "data_forecastV2 = dict(zip(dates, ind_2))"
   ]
  },
  {
   "cell_type": "markdown",
   "metadata": {},
   "source": [
    "### 2. Генератор описания прогноза погоды [4 балла]\n"
   ]
  },
  {
   "cell_type": "code",
   "execution_count": 14,
   "metadata": {
    "collapsed": true
   },
   "outputs": [],
   "source": [
    "import pymorphy2\n",
    "morph = pymorphy2.MorphAnalyzer()\n"
   ]
  },
  {
   "cell_type": "markdown",
   "metadata": {},
   "source": [
    "Из этой библиотеки воспользуемся следующими методами:\n",
    "    - Parse.inflect({''}) - для приведения слова к необходимой падежной форме\n",
    "    - Parse.make_agree_with_number() - для согласования слова с числительным"
   ]
  },
  {
   "cell_type": "markdown",
   "metadata": {},
   "source": [
    "В наших шаблонах имеются предлоги с вариациями: *\"с/со\"* и *\"в/во\"*. Правильным было бы написать правила использования вариаций предлогов в зависимости от следующего за ним слова (по первым буквам), но так как наш проект небольшой, а использование предлогов ограничивается только **днями недели**, то было решено реализовать это с помощью словарей (switch case). А также создадим словарь нормальных названий дней недели, так как выгружены были краткие."
   ]
  },
  {
   "cell_type": "code",
   "execution_count": 15,
   "metadata": {
    "collapsed": true
   },
   "outputs": [],
   "source": [
    "var_with = {\n",
    "    'понедельник': 'с',\n",
    "    'вторник' : 'со',\n",
    "    'среда': 'cо',\n",
    "    'четверг': 'с',  \n",
    "    'пятница': 'с',\n",
    "    'суббота': 'с',\n",
    "    'воскресенье': 'с'\n",
    "}\n",
    "\n",
    "var_from = {\n",
    "    'понедельник': 'в',\n",
    "    'вторник' : 'во',\n",
    "    'среда': 'в',\n",
    "    'четверг': 'в',  \n",
    "    'пятница': 'в',\n",
    "    'суббота': 'в',\n",
    "    'воскресенье': 'в'\n",
    "}\n",
    "\n",
    "week_dc = {\n",
    "    'пн': 'понедельник',\n",
    "    'вт': 'вторник',\n",
    "    'ср': 'среда',\n",
    "    'чт': 'четверг',  \n",
    "    'пт': 'пятница',\n",
    "    'сб': 'суббота',\n",
    "    'вс': 'воскресенье'\n",
    "}\n"
   ]
  },
  {
   "cell_type": "markdown",
   "metadata": {},
   "source": [
    "Предполагаем, что \"пользователем\" на ввод подаются даты таким образом:\n",
    "*  просто число - '16',\n",
    "*  число и месяц - '18.02' (на месте точки может быть любой разделитель или пробел),\n",
    "\n",
    "и оба дня могут подаваться любым из способов независимо друг от друга.\n",
    "\n",
    "Напишем функцию, которая верно \"ловит\" числа, о погоде которых хочет узнать \"пользователь\", т.к. она нам пригодится несколько раз."
   ]
  },
  {
   "cell_type": "code",
   "execution_count": 16,
   "metadata": {
    "collapsed": true
   },
   "outputs": [],
   "source": [
    "import re\n",
    "\n",
    "def parse_input(day1, day2):\n",
    "    '''\n",
    "    Ищет в вводимых строчках с помощью регулярных выражений\n",
    "    первые одну или две цифры, являющиеся числом в дате и\n",
    "    кладет их на месте в те же переменные как int \n",
    "    '''\n",
    "    pattern = re.compile('\\d\\d?')\n",
    "    day1 = int(pattern.match(str(day1)).group(0))\n",
    "    day2 = int(pattern.match(str(day2)).group(0))\n",
    "    return day1, day2\n"
   ]
  },
  {
   "cell_type": "markdown",
   "metadata": {},
   "source": [
    "Напишем функции, к которым интуитивно проще обращаться, для вызова определенного показателя определенного дня."
   ]
  },
  {
   "cell_type": "code",
   "execution_count": 17,
   "metadata": {
    "collapsed": true
   },
   "outputs": [],
   "source": [
    "def week(day):\n",
    "    return data_forecastV2[day][0]\n",
    "    # день недели str\n",
    "    \n",
    "def temp(day):\n",
    "    return (data_forecastV2[day][1] + data_forecastV2[day][2])/2\n",
    "    # средняя температура int\n",
    "\n",
    "def wind(day):\n",
    "    return data_forecastV2[day][3]\n",
    "    # скорость ветра \n",
    "\n",
    "def precip(day):\n",
    "    return data_forecastV2[day][4]\n",
    "    # уровень осадков\n",
    "    "
   ]
  },
  {
   "cell_type": "markdown",
   "metadata": {},
   "source": [
    "Напишем функцию вызова первого шаблона, который описывает изменение температуры:\n",
    "\n",
    "**В *день2* похолодает/потеплеет на X градус(-а, -ов) по сравнению с *день1*.**"
   ]
  },
  {
   "cell_type": "code",
   "execution_count": 18,
   "metadata": {
    "collapsed": true
   },
   "outputs": [],
   "source": [
    "def temp_verb(day1, day2): \n",
    "    '''\n",
    "    Возращает нужный глагол в зависимости\n",
    "    от изменения средней температуры,\n",
    "    day2 идет после day1 \n",
    "    '''\n",
    "    if temp(day1) > temp(day2):\n",
    "        return 'похолодает'\n",
    "    if temp(day1) <= temp(day2):\n",
    "        return 'потеплеет'\n",
    "    \n",
    "def temp_dif(day1, day2):\n",
    "    ''' Разница температур между днями'''\n",
    "    return abs(temp(day2)-temp(day1))\n",
    "\n",
    "def temperature(day1, day2):\n",
    "    '''\n",
    "    Возвращает строку шаблона, ставя в правильный падеж день недели и город,\n",
    "    согласовывая с числительным градусы, вставляя правильные вариации предлогов\n",
    "    и нужный глагол.\n",
    "\n",
    "    '''\n",
    "    day1, day2 = parse_input(day1, day2)\n",
    "    weekday1=week_dc[week(day1)]\n",
    "    weekday2=week_dc[week(day2)]\n",
    "\n",
    "    \n",
    "    answer = ' '.join([var_from[weekday2].capitalize(), \n",
    "                      morph.parse(weekday2)[0].inflect({'accs'}).word, \n",
    "                      'в', morph.parse('Уренгой')[0].inflect({'loct'}).word.capitalize(), \n",
    "                      temp_verb(day1, day2),\n",
    "                      'на', str(temp_dif(day1, day2)),\n",
    "                      morph.parse('градусы')[0].make_agree_with_number(temp_dif(day1, day2)).word, \n",
    "                      'по сравнению', var_with[weekday1],  \n",
    "                      morph.parse(weekday1)[0].inflect({'ablt'}).word]) + '.'\n",
    "    return answer\n"
   ]
  },
  {
   "cell_type": "markdown",
   "metadata": {},
   "source": [
    "Напишем функцию вызова второго шаблона, который описывает изменение скорости ветра:\n",
    "\n",
    "**Скорость ветра изменится на X единиц в день2 по сравнению с день1.**"
   ]
  },
  {
   "cell_type": "code",
   "execution_count": 19,
   "metadata": {
    "collapsed": true
   },
   "outputs": [],
   "source": [
    "def wind_dif(day1, day2):\n",
    "    '''Разница скорости ветра между днями'''\n",
    "    return abs(wind(day1) - wind(day2))\n",
    "\n",
    "def wind_speed(day1, day2):\n",
    "    '''\n",
    "    Возвращает строку шаблона, ставя в правильный падеж день недели,\n",
    "    согласовывая с числительным единицы, вставляя правильные вариации предлогов.\n",
    "    '''\n",
    "    day1, day2 = parse_input(day1, day2)\n",
    "    weekday1=week_dc[week(day1)]\n",
    "    weekday2=week_dc[week(day2)]\n",
    "    answer=' '.join(['Скорость ветра изменится на', str(wind_dif(day1, day2)), \n",
    "                    morph.parse('единицу')[0].make_agree_with_number(wind_dif(day1, day2)).word, \n",
    "                    var_from[weekday1], morph.parse(weekday1)[0].inflect({'accs'}).word, \n",
    "                    'по сравнению', var_with[weekday2], \n",
    "                    morph.parse(weekday2)[0].inflect({'ablt'}).word]) + '.'\n",
    "    return answer\n"
   ]
  },
  {
   "cell_type": "markdown",
   "metadata": {},
   "source": [
    "Напишем функцию вызова третьего шаблона, который описывает изменение уровня осадков:\n",
    "\n",
    "**Уровень осадков повысится/понизится на X единиц за Y дней.**"
   ]
  },
  {
   "cell_type": "code",
   "execution_count": 20,
   "metadata": {
    "collapsed": true
   },
   "outputs": [],
   "source": [
    "def precip_verb(day1, day2):\n",
    "    '''\n",
    "    Возращает нужный глагол в зависимости\n",
    "    от изменения уровня осадков,\n",
    "    day2 идет после day1 \n",
    "    '''\n",
    "    if precip(day1) > precip(day2):\n",
    "        return 'понизится'\n",
    "    if precip(day1) <= precip(day2):\n",
    "        return 'повысится'\n",
    "\n",
    "def precip_dif(day1, day2):\n",
    "    '''Разница уровня осадков между днями'''\n",
    "    return round(abs(precip(day2) - precip(day1)), 2)\n",
    "    \n",
    "def precip_level(day1, day2):\n",
    "    '''\n",
    "    Возвращает строку шаблона, ставя в правильный падеж слово \"дни\",\n",
    "    согласовывая с числительным единицы и вставляя нужный глагол.\n",
    "    '''\n",
    "    day1, day2 = parse_input(day1, day2)\n",
    "    answer=' '.join(['Уровень осадков', precip_verb(day1, day2), \n",
    "                    'на', str(precip_dif(day1, day2)), \n",
    "                    morph.parse('единицы')[0].make_agree_with_number(precip_dif(day1, day2)).word, \n",
    "                    'за', str(abs(day2 - day1)), \n",
    "                    morph.parse('дни')[0].make_agree_with_number((day2 - day1)).word]) + '.'\n",
    "    return answer\n"
   ]
  },
  {
   "cell_type": "markdown",
   "metadata": {},
   "source": [
    "Проверим работоспособность шаблонов:"
   ]
  },
  {
   "cell_type": "code",
   "execution_count": 21,
   "metadata": {},
   "outputs": [
    {
     "name": "stdout",
     "output_type": "stream",
     "text": [
      "В понедельник в Уренгое похолодает на 6.0 градусов по сравнению со вторником.\n",
      "Скорость ветра изменится на 7 единиц во вторник по сравнению с понедельником.\n",
      "Уровень осадков повысится на 1.1 единиц за 6 дней.\n"
     ]
    }
   ],
   "source": [
    "day1, day2 = '20.02', '26'\n",
    "print(temperature(day1, day2), wind_speed(day1, day2), precip_level(day1, day2), sep='\\n')\n"
   ]
  },
  {
   "cell_type": "markdown",
   "metadata": {},
   "source": [
    "### 3. Ответьте на вопросы [3 балла]\n",
    "* **В каких других задачах (помимо описания прогноза погоды) может понадобиться генерировать текст по шаблонам? В каких задачах может понадобиться генерировать текст об изменении числовых показателей по шаблонам?**"
   ]
  },
  {
   "cell_type": "markdown",
   "metadata": {},
   "source": [
    "1) Генерация текстов по шаблонам может применяться при автоматическом **составлении юридических документов** (договоров, заявлений, отчетов для бухгалтерии и т.д.). Более того, SEO-специалисты часто используют тексты как инструмент продвижения сайтов в поисковых системах, а именнно для **размножения статей**: на основе одного текста создаются его копии (чаще всего путем использования синонимов и схожих конструкций), далее они размещаются на других ресурсах и блогах с целью рекламы. Такие копии должны достаточно различаться друг от друга и казаться \"уникальными\", но при этом важно сохранить тему статьи и основной смысл. Также можно использовать генерацию текста по шаблонам для **наполнения ресурса контентом**. Например, таким образом можно составлять **описания товаров** для интернет-магазина или кратко оценивать товар предложениями, составленными на основе отзывов покупателей по разным качествам. Кроме этого, такие генераторы могут помочь исследователям для состваления **отчетов об их исследованиях**: вместо того, чтобы каждый раз \"от руки\" описывать графики, прогресс исследования и другие изменения числовых показателей одного и того же, можно использовать шаблоны.\n",
    "\n",
    "2) Сгенерированные тексты об изменении числовых показателей часто встречаются в почтовых рассылках и смс-уведомлениях. Можно привести следующие примеры: \n",
    "* сообщения от банков с информацией о текущем балансе или совершенных операциях \n",
    "* письма от сервисов, уведомляющие о снижении/повышении цен на товары (например, на авиабилеты, которые ранее просматривал пользователь)\n",
    "* сведения о ситуации на дорогах, пробках \n",
    "![Image](https://c.radikal.ru/c01/1802/e2/983c22bc7964.png)"
   ]
  },
  {
   "cell_type": "markdown",
   "metadata": {},
   "source": [
    "* **Шаблоны, которые вы использовали в этом задании, имеют фиксированную структуру. Фактически, ваша задача заключалась в том, чтобы подставить в шаблон число и согласовать единицы измерения с этим числом или подставить в шаблон название города и согласовать его с предлогом. Как можно разнообразить эти шаблоны? Как знание синтаксической структуры предложения может помочь в этой задаче?**\n",
    "\n",
    "1) Шаблонам можно придать эмоциональную окраску, добавив междометия, слова или словосочетания, чтобы выразить оценку текущей погоды и сделать текст более \"живым\". Например, вот так:\n",
    "* *Ура! Кажется, весна пришла: во вторник в Уренгое потеплеет на 10 градусов по сравнению с субботой.*\n",
    "* *Одевайтесь теплее! Во вторник в Уренгое похолодает на 10 градусов по сравнению с субботой.*\n",
    "\n",
    "Кроме того, можно использовать синонимы для глаголов и добавить наречия:\n",
    "* *Уровень осадков незначительно уменьшится на 0.7 единиц за 3 дня.*\n",
    "\n",
    "Также, когда числовые показатели не изменяются, то можно заменить вывод нулевой разницы высказыванием:\n",
    "\n",
    "* *Скорость ветра не изменится во вторник по сравнению cо средой.*\n",
    "\n",
    "2) Для того, чтобы разнообразить текст, мы добавляем новые слова и увеличиваем сложность фразы. Знание синтаксической структуры предложения помогает сохранить правильный порядок слов и избежать ошибок: например таких, когда слово расположено слишком далеко от того, от которого оно зависит:\n",
    "* *Незначительно уровень осадков уменьшится на 0.7 единиц за 3 дня.*"
   ]
  },
  {
   "cell_type": "markdown",
   "metadata": {},
   "source": [
    "\n",
    "\n"
   ]
  }
 ],
 "metadata": {
  "kernelspec": {
   "display_name": "Python 3",
   "language": "python",
   "name": "python3"
  },
  "language_info": {
   "codemirror_mode": {
    "name": "ipython",
    "version": 3
   },
   "file_extension": ".py",
   "mimetype": "text/x-python",
   "name": "python",
   "nbconvert_exporter": "python",
   "pygments_lexer": "ipython3",
   "version": "3.6.1"
  }
 },
 "nbformat": 4,
 "nbformat_minor": 2
}
